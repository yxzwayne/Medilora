{
  "cells": [
    {
      "cell_type": "code",
      "execution_count": 1,
      "metadata": {},
      "outputs": [],
      "source": [
        "import json\n",
        "import os"
      ]
    },
    {
      "cell_type": "markdown",
      "metadata": {
        "id": "mqiRpChu0KtF"
      },
      "source": [
        "# Check validity"
      ]
    },
    {
      "cell_type": "code",
      "execution_count": 2,
      "metadata": {
        "colab": {
          "base_uri": "https://localhost:8080/"
        },
        "id": "51qDmslbzSD1",
        "outputId": "754ff017-ed60-4ce6-bd76-52508a249703"
      },
      "outputs": [],
      "source": [
        "def check_validity(res):\n",
        "\n",
        "    # Check the validity of our responses in terms of final_decision prediction.\n",
        "    valid_responses = 0\n",
        "\n",
        "    # Iterate over the results\n",
        "    for key in res:\n",
        "        response = res[key][\"RESPONSE\"].strip().rstrip()\n",
        "\n",
        "        # Check if the response starts with \"yes.\", \"no.\", or \"maybe.\"\n",
        "        if (\n",
        "            response.lower().startswith(\"yes.\")\n",
        "            or response.lower().startswith(\"no.\")\n",
        "            or response.lower().startswith(\"maybe.\")\n",
        "        ):\n",
        "            valid_responses += 1\n",
        "\n",
        "    # Calculate the valid response rate\n",
        "    valid_response_rate = valid_responses / len(res) * 100\n",
        "\n",
        "    # Print the valid response rate\n",
        "    print(f\"Valid response rate: {valid_response_rate}%\")"
      ]
    },
    {
      "cell_type": "markdown",
      "metadata": {
        "id": "HGJ3bgGc0Ibz"
      },
      "source": [
        "# Check accuracy"
      ]
    },
    {
      "cell_type": "code",
      "execution_count": 3,
      "metadata": {
        "colab": {
          "base_uri": "https://localhost:8080/"
        },
        "id": "csGG6TC00HBn",
        "outputId": "24950142-8d2a-42c5-bf0f-8f989c9cf612"
      },
      "outputs": [],
      "source": [
        "def pubmedqa_accuracy(res):\n",
        "    # Initialize a counter for correct predictions\n",
        "    correct_predictions = 0\n",
        "\n",
        "    # Iterate over the results\n",
        "    for key in res:\n",
        "        response = res[key][\"RESPONSE\"].strip().rstrip()\n",
        "        final_decision = res[key][\"final_decision\"]\n",
        "\n",
        "        # Extract the starting prediction from the response\n",
        "        for cand in [\"yes\", \"no\", \"maybe\"]:\n",
        "            if response.lower().startswith(cand):\n",
        "                prediction = cand\n",
        "                break\n",
        "\n",
        "        # Compare the prediction with the final_decision\n",
        "        if prediction == final_decision:\n",
        "            correct_predictions += 1\n",
        "\n",
        "    # Calculate the correct rate\n",
        "    correct_rate = correct_predictions / len(res) * 100\n",
        "\n",
        "    # Print the correct rate\n",
        "    print(f\"Correct rate: {correct_rate}%\")"
      ]
    },
    {
      "cell_type": "code",
      "execution_count": 4,
      "metadata": {},
      "outputs": [
        {
          "name": "stdout",
          "output_type": "stream",
          "text": [
            "\n",
            "File name: predict_test500.json\n",
            "Valid response rate: 100.0%\n",
            "Correct rate: 58.8%\n",
            "\n",
            "File name: pred_openhermes.json\n",
            "Valid response rate: 1.2%\n",
            "Correct rate: 59.0%\n",
            "\n",
            "File name: predict_ori_pqal.json\n",
            "Valid response rate: 100.0%\n",
            "Correct rate: 59.4%\n",
            "\n",
            "File name: predict_ori_pqal_base_sys_prompt.json\n",
            "Valid response rate: 99.9%\n",
            "Correct rate: 70.7%\n"
          ]
        }
      ],
      "source": [
        "pred_fns = []\n",
        "for fn in os.listdir():\n",
        "    if fn.startswith(\"pred\"):\n",
        "        pred_fns.append(fn)\n",
        "\n",
        "for pfn in pred_fns:\n",
        "    with open(pfn, \"r\") as f:\n",
        "        results = json.load(f)\n",
        "    print(f\"\\nFile name: {pfn}\")\n",
        "    check_validity(res=results)\n",
        "    pubmedqa_accuracy(res=results)"
      ]
    }
  ],
  "metadata": {
    "colab": {
      "provenance": []
    },
    "kernelspec": {
      "display_name": "Python 3",
      "name": "python3"
    },
    "language_info": {
      "codemirror_mode": {
        "name": "ipython",
        "version": 3
      },
      "file_extension": ".py",
      "mimetype": "text/x-python",
      "name": "python",
      "nbconvert_exporter": "python",
      "pygments_lexer": "ipython3",
      "version": "3.11.5"
    }
  },
  "nbformat": 4,
  "nbformat_minor": 0
}
