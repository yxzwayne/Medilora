{
  "cells": [
    {
      "cell_type": "code",
      "execution_count": 1,
      "metadata": {},
      "outputs": [],
      "source": [
        "from pprint import pprint\n",
        "import json\n",
        "import os\n",
        "\n",
        "# with open(\"predict_test.jsonl\") as f:\n",
        "#     results = json.load(f)\n",
        "\n",
        "# results[45][\"response\"][1:2] # this gives the model's predicted answer_idx\n",
        "# results[45]"
      ]
    },
    {
      "cell_type": "markdown",
      "metadata": {
        "id": "mqiRpChu0KtF"
      },
      "source": [
        "# Check validity"
      ]
    },
    {
      "cell_type": "code",
      "execution_count": 2,
      "metadata": {
        "colab": {
          "base_uri": "https://localhost:8080/"
        },
        "id": "51qDmslbzSD1",
        "outputId": "754ff017-ed60-4ce6-bd76-52508a249703"
      },
      "outputs": [],
      "source": [
        "def check_validity(res):\n",
        "\n",
        "    # Check the validity of our responses in terms of final_decision prediction.\n",
        "    valid_responses = 0\n",
        "    valid_res_count = {}\n",
        "\n",
        "    # Iterate over the results\n",
        "    for entry in res:\n",
        "        response = entry[\"response\"].strip().rstrip()\n",
        "\n",
        "        # Check if the response starts with \"yes.\", \"no.\", or \"maybe.\"\n",
        "        if response[:3] in [\"(A)\",\"(B)\",\"(C)\",\"(D)\"]:\n",
        "            valid_responses += 1\n",
        "            if response[:3] in valid_res_count:\n",
        "                valid_res_count[response[:3]] += 1\n",
        "            else:\n",
        "                valid_res_count[response[:3]] = 1\n",
        "\n",
        "    # Calculate the valid response rate\n",
        "    valid_response_rate = valid_responses / len(res) * 100\n",
        "\n",
        "    # Print the valid response rate\n",
        "    print(f\"Valid response rate: {valid_response_rate}%\")\n",
        "    pprint(f\"Response distribution: {valid_res_count}\")"
      ]
    },
    {
      "cell_type": "markdown",
      "metadata": {
        "id": "HGJ3bgGc0Ibz"
      },
      "source": [
        "# Check accuracy"
      ]
    },
    {
      "cell_type": "code",
      "execution_count": 3,
      "metadata": {
        "colab": {
          "base_uri": "https://localhost:8080/"
        },
        "id": "csGG6TC00HBn",
        "outputId": "24950142-8d2a-42c5-bf0f-8f989c9cf612"
      },
      "outputs": [],
      "source": [
        "def medqa_accuracy(res):\n",
        "    # Initialize a counter for correct predictions\n",
        "    correct_predictions = 0\n",
        "\n",
        "    # results[45][\"response\"][1:2] # this gives the model's predicted answer_idx\n",
        "    for entry in res:\n",
        "        pred = entry[\"response\"][1:2].lower()\n",
        "        target = entry[\"answer_idx\"].lower()\n",
        "\n",
        "        # Compare the prediction with the final_decision\n",
        "        if pred == target:\n",
        "            correct_predictions += 1\n",
        "\n",
        "    # Calculate the correct rate\n",
        "    correct_rate = correct_predictions / len(res) * 100\n",
        "\n",
        "    # Print the correct rate\n",
        "    print(f\"Correct rate: {correct_rate}%\")"
      ]
    },
    {
      "cell_type": "code",
      "execution_count": 4,
      "metadata": {},
      "outputs": [],
      "source": [
        "# import json\n",
        "\n",
        "# pred_fn = \"predict_test500.json\"\n",
        "\n",
        "# with open(pred_fn) as f:\n",
        "#     results = json.load(f)\n",
        "    \n",
        "# check_validity(res=results)\n",
        "# medqa_accuracy(res=results)"
      ]
    },
    {
      "cell_type": "code",
      "execution_count": 5,
      "metadata": {},
      "outputs": [
        {
          "name": "stdout",
          "output_type": "stream",
          "text": [
            "\n",
            "File name: predict_base_4options.jsonl\n",
            "Valid response rate: 99.13589945011783%\n",
            "\"Response distribution: {'(A)': 677, '(B)': 271, '(D)': 94, '(C)': 220}\"\n",
            "Correct rate: 46.11154752553024%\n",
            "\n",
            "File name: predict_medilora_5option.jsonl\n",
            "Valid response rate: 98.74312647289867%\n",
            "\"Response distribution: {'(C)': 187, '(D)': 147, '(A)': 620, '(B)': 303}\"\n",
            "Correct rate: 37.86331500392773%\n",
            "\n",
            "File name: predict_base_5option.jsonl\n",
            "Valid response rate: 95.20816967792615%\n",
            "\"Response distribution: {'(B)': 260, '(C)': 180, '(A)': 674, '(D)': 98}\"\n",
            "Correct rate: 37.15632364493323%\n",
            "\n",
            "File name: predict_medilora_4option.jsonl\n",
            "Valid response rate: 99.84289080911233%\n",
            "\"Response distribution: {'(A)': 614, '(B)': 287, '(D)': 119, '(C)': 251}\"\n",
            "Correct rate: 46.504320502749415%\n"
          ]
        }
      ],
      "source": [
        "pred_fns = []\n",
        "for fn in os.listdir():\n",
        "    if fn.startswith(\"pred\"):\n",
        "        pred_fns.append(fn)\n",
        "\n",
        "for pfn in pred_fns:\n",
        "    with open(pfn) as f:\n",
        "        results = json.load(f)\n",
        "    print(f\"\\nFile name: {pfn}\")\n",
        "    check_validity(res=results)\n",
        "    medqa_accuracy(res=results)"
      ]
    }
  ],
  "metadata": {
    "colab": {
      "provenance": []
    },
    "kernelspec": {
      "display_name": "Python 3",
      "name": "python3"
    },
    "language_info": {
      "codemirror_mode": {
        "name": "ipython",
        "version": 3
      },
      "file_extension": ".py",
      "mimetype": "text/x-python",
      "name": "python",
      "nbconvert_exporter": "python",
      "pygments_lexer": "ipython3",
      "version": "3.11.5"
    }
  },
  "nbformat": 4,
  "nbformat_minor": 0
}
