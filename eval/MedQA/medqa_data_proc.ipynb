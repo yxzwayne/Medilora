{
 "cells": [
  {
   "cell_type": "code",
   "execution_count": 1,
   "metadata": {},
   "outputs": [
    {
     "name": "stderr",
     "output_type": "stream",
     "text": [
      "/Users/yuxuan/.pyenv/versions/3.11.5/lib/python3.11/site-packages/tqdm/auto.py:21: TqdmWarning: IProgress not found. Please update jupyter and ipywidgets. See https://ipywidgets.readthedocs.io/en/stable/user_install.html\n",
      "  from .autonotebook import tqdm as notebook_tqdm\n"
     ]
    }
   ],
   "source": [
    "from datasets import DatasetDict, Dataset\n",
    "import json"
   ]
  },
  {
   "cell_type": "code",
   "execution_count": 13,
   "metadata": {},
   "outputs": [
    {
     "name": "stderr",
     "output_type": "stream",
     "text": [
      "Creating parquet from Arrow format: 100%|██████████| 11/11 [00:00<00:00, 190.77ba/s]\n",
      "Pushing dataset shards to the dataset hub: 100%|██████████| 1/1 [00:21<00:00, 21.16s/it]\n"
     ]
    }
   ],
   "source": [
    "medqa_system = \"You are a medical doctor taking the US Medical Licensing Examination. You need to demonstrate your understanding of basic and clinical science, medical knowledge, and mechanisms underlying health, disease, patient care, and modes of therapy. Show your ability to apply the knowledge essential for medical practice. For the following multiple-choice question, select one correct answer from A to E. Base your answer on the current and standard practices referenced in medical guidelines.\"\n",
    "\n",
    "# {\"conversations\": [{\"from\": \"...\", \"value\": \"...\"}]}\n",
    "# chat = [\n",
    "#     {\"from\": \"user\", \"value\": user},\n",
    "#     {\"from\": \"assistant\", \"value\": assistant},\n",
    "# ]\n",
    "# row[\"conversations\"] = chat\n",
    "\n",
    "\n",
    "def format_medqa_chat(input_list):\n",
    "    constructed = {}\n",
    "    chats = []\n",
    "    for i in range(len(input_list)):\n",
    "        question = input_list[i][\"question\"]\n",
    "        options = input_list[i][\"options\"]\n",
    "        answer = input_list[i][\"answer\"]\n",
    "        answer_key = [k for k, v in options.items() if v == answer][0]\n",
    "        formatted_options = \"\\n\".join([f\"({k}) {v}\" for k, v in options.items()])\n",
    "        chat = [\n",
    "            {\n",
    "                \"from\": \"system\",\n",
    "                \"value\": medqa_system,\n",
    "            },\n",
    "            {\n",
    "                \"from\": \"user\",\n",
    "                \"value\": f\"Question: {question}\\nOptions:\\n{formatted_options}\",\n",
    "            },\n",
    "            {\"from\": \"assistant\", \"value\": f\"({answer_key}) {answer}\"},\n",
    "        ]\n",
    "        chats.append(chat)\n",
    "    constructed[\"conversations\"] = chats\n",
    "    return constructed\n",
    "\n",
    "\n",
    "data_train = []\n",
    "\n",
    "\n",
    "with open(\"train.jsonl\", \"r\") as f:\n",
    "    for line in f:\n",
    "        data_train.append(json.loads(line))\n",
    "\n",
    "# data_train[5]\n",
    "\n",
    "dataset = Dataset.from_dict(format_medqa_chat(data_train))\n",
    "\n",
    "\n",
    "dataset.push_to_hub(\"Medilora/MedMCQA-ShareGPT\", private=True)"
   ]
  },
  {
   "cell_type": "code",
   "execution_count": 2,
   "metadata": {},
   "outputs": [
    {
     "name": "stderr",
     "output_type": "stream",
     "text": [
      "Downloading readme: 100%|██████████| 712/712 [00:00<00:00, 2.32MB/s]\n",
      "Downloading data: 100%|██████████| 4.71k/4.71k [00:00<00:00, 13.8kB/s]\n",
      "Downloading data: 100%|██████████| 4.15k/4.15k [00:00<00:00, 17.9kB/s]\n",
      "Downloading data: 100%|██████████| 4.70k/4.70k [00:00<00:00, 19.8kB/s]\n",
      "Downloading data files: 100%|██████████| 3/3 [00:00<00:00,  3.33it/s]\n",
      "Extracting data files: 100%|██████████| 3/3 [00:00<00:00, 1260.06it/s]\n",
      "Generating train split: 100%|██████████| 2/2 [00:00<00:00, 170.94 examples/s]\n",
      "Generating validation split: 100%|██████████| 2/2 [00:00<00:00, 1668.05 examples/s]\n",
      "Generating test split: 100%|██████████| 2/2 [00:00<00:00, 1770.12 examples/s]\n"
     ]
    }
   ],
   "source": [
    "from datasets import load_dataset\n",
    "\n",
    "dataset = load_dataset(\"Medilora/MedMCQA-ShareGPT\")"
   ]
  },
  {
   "cell_type": "code",
   "execution_count": 6,
   "metadata": {},
   "outputs": [
    {
     "data": {
      "text/plain": [
       "{'conversations': {'from': 'assistant',\n",
       "  'value': '(D) Partial molar pregnancy'}}"
      ]
     },
     "execution_count": 6,
     "metadata": {},
     "output_type": "execute_result"
    }
   ],
   "source": [
    "dataset[\"train\"][1]"
   ]
  },
  {
   "cell_type": "code",
   "execution_count": null,
   "metadata": {},
   "outputs": [],
   "source": [
    "data_train = []\n",
    "\n",
    "with open(\"US_qbank.jsonl\", \"r\") as f:\n",
    "    for line in f:\n",
    "        data_train.append(json.loads(line))\n",
    "\n",
    "unique_keys = set()\n",
    "\n",
    "for entry in data_train:\n",
    "    for key in entry.keys():\n",
    "        unique_keys.add(key)\n",
    "\n",
    "print(f\"There are {len(unique_keys)} unique keys in the JSON data.\")\n",
    "print(f\"The unique keys are: {unique_keys}\")\n",
    "\n",
    "data_train[5]"
   ]
  }
 ],
 "metadata": {
  "kernelspec": {
   "display_name": "Python 3",
   "language": "python",
   "name": "python3"
  },
  "language_info": {
   "codemirror_mode": {
    "name": "ipython",
    "version": 3
   },
   "file_extension": ".py",
   "mimetype": "text/x-python",
   "name": "python",
   "nbconvert_exporter": "python",
   "pygments_lexer": "ipython3",
   "version": "3.11.5"
  }
 },
 "nbformat": 4,
 "nbformat_minor": 2
}
